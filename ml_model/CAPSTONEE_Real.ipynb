{
  "cells": [
    {
      "cell_type": "markdown",
      "metadata": {
        "id": "5WKApeDgkmx6"
      },
      "source": [
        "# Project Capstone Diabetes\n",
        "ID Team : CC25-CF255"
      ]
    },
    {
      "cell_type": "markdown",
      "metadata": {
        "id": "vc79QvFkkeI_"
      },
      "source": [
        "# Library"
      ]
    },
    {
      "cell_type": "code",
      "execution_count": null,
      "metadata": {
        "id": "lfsWQcMefwpc"
      },
      "outputs": [],
      "source": [
        "import pandas as pd\n",
        "import numpy as np\n",
        "import matplotlib.pyplot as plt\n",
        "import seaborn as sns\n",
        "\n",
        "from sklearn.model_selection import train_test_split\n",
        "from sklearn.preprocessing import StandardScaler\n",
        "from tensorflow.keras.models import Sequential\n",
        "from tensorflow.keras.layers import Dense, Dropout\n",
        "from tensorflow.keras.callbacks import EarlyStopping\n",
        "from sklearn.metrics import classification_report, confusion_matrix\n",
        "from google.colab import drive\n",
        "\n",
        "import tensorflow as tf"
      ]
    },
    {
      "cell_type": "markdown",
      "metadata": {
        "id": "B1fW3tw3k-bZ"
      },
      "source": [
        "# Data Loadingg"
      ]
    },
    {
      "cell_type": "markdown",
      "metadata": {
        "id": "ZKJwJ_ohquk6"
      },
      "source": [
        "## Load data dari drive"
      ]
    },
    {
      "cell_type": "markdown",
      "metadata": {
        "id": "hHh_qvXh6Jw0"
      },
      "source": [
        "Mount"
      ]
    },
    {
      "cell_type": "code",
      "execution_count": null,
      "metadata": {
        "colab": {
          "base_uri": "https://localhost:8080/"
        },
        "id": "B1gee4fM6Lcp",
        "outputId": "1a98cef7-2c86-4de1-bfa1-b9021bf09dac"
      },
      "outputs": [
        {
          "output_type": "stream",
          "name": "stdout",
          "text": [
            "Mounted at /content/drive\n"
          ]
        }
      ],
      "source": [
        "drive.mount('/content/drive')"
      ]
    },
    {
      "cell_type": "markdown",
      "metadata": {
        "id": "Vn1hWf9O6Mur"
      },
      "source": [
        "all data"
      ]
    },
    {
      "cell_type": "code",
      "execution_count": null,
      "metadata": {
        "colab": {
          "base_uri": "https://localhost:8080/"
        },
        "id": "OdSMAvDfk-Bu",
        "outputId": "72aa0689-f551-46df-f376-236329339b38"
      },
      "outputs": [
        {
          "output_type": "stream",
          "name": "stdout",
          "text": [
            "Semua kolom dalam dataset:\n",
            "['Diabetes_binary', 'HighBP', 'HighChol', 'CholCheck', 'BMI', 'Smoker', 'Stroke', 'HeartDiseaseorAttack', 'PhysActivity', 'Fruits', 'Veggies', 'HvyAlcoholConsump', 'AnyHealthcare', 'NoDocbcCost', 'GenHlth', 'MentHlth', 'PhysHlth', 'DiffWalk', 'Sex', 'Age', 'Education', 'Income']\n"
          ]
        }
      ],
      "source": [
        "data_path = '/content/drive/MyDrive/Capstone/dataset_diabetes.csv'\n",
        "df = pd.read_csv(data_path)\n",
        "\n",
        "print(\"Semua kolom dalam dataset:\")\n",
        "print(df.columns.tolist())\n"
      ]
    },
    {
      "cell_type": "code",
      "execution_count": null,
      "metadata": {
        "colab": {
          "base_uri": "https://localhost:8080/"
        },
        "id": "2yTQ9W3yYju8",
        "outputId": "f38114d1-50a8-45da-fd70-dd9ee0181fc7"
      },
      "outputs": [
        {
          "output_type": "stream",
          "name": "stdout",
          "text": [
            "<class 'pandas.core.frame.DataFrame'>\n",
            "RangeIndex: 70692 entries, 0 to 70691\n",
            "Data columns (total 22 columns):\n",
            " #   Column                Non-Null Count  Dtype  \n",
            "---  ------                --------------  -----  \n",
            " 0   Diabetes_binary       70692 non-null  float64\n",
            " 1   HighBP                70692 non-null  float64\n",
            " 2   HighChol              70692 non-null  float64\n",
            " 3   CholCheck             70692 non-null  float64\n",
            " 4   BMI                   70692 non-null  float64\n",
            " 5   Smoker                70692 non-null  float64\n",
            " 6   Stroke                70692 non-null  float64\n",
            " 7   HeartDiseaseorAttack  70692 non-null  float64\n",
            " 8   PhysActivity          70692 non-null  float64\n",
            " 9   Fruits                70692 non-null  float64\n",
            " 10  Veggies               70692 non-null  float64\n",
            " 11  HvyAlcoholConsump     70692 non-null  float64\n",
            " 12  AnyHealthcare         70692 non-null  float64\n",
            " 13  NoDocbcCost           70692 non-null  float64\n",
            " 14  GenHlth               70692 non-null  float64\n",
            " 15  MentHlth              70692 non-null  float64\n",
            " 16  PhysHlth              70692 non-null  float64\n",
            " 17  DiffWalk              70692 non-null  float64\n",
            " 18  Sex                   70692 non-null  float64\n",
            " 19  Age                   70692 non-null  float64\n",
            " 20  Education             70692 non-null  float64\n",
            " 21  Income                70692 non-null  float64\n",
            "dtypes: float64(22)\n",
            "memory usage: 11.9 MB\n",
            "None\n"
          ]
        }
      ],
      "source": [
        "print(df.info())"
      ]
    },
    {
      "cell_type": "markdown",
      "metadata": {
        "id": "PYcdtiBTmJhA"
      },
      "source": [
        "## Selected feature"
      ]
    },
    {
      "cell_type": "code",
      "execution_count": null,
      "metadata": {
        "id": "EtFRknwIqduE"
      },
      "outputs": [],
      "source": [
        "selected_features = [\n",
        "    'HighBP',\n",
        "    'HighChol',\n",
        "    'CholCheck',\n",
        "    'BMI',\n",
        "    'Smoker',\n",
        "    'Stroke',\n",
        "    'HeartDiseaseorAttack',\n",
        "    'PhysActivity',\n",
        "    'Fruits',\n",
        "    'Veggies',\n",
        "    'HvyAlcoholConsump',\n",
        "    'AnyHealthcare',\n",
        "    'NoDocbcCost',\n",
        "    'GenHlth',\n",
        "    'MentHlth',\n",
        "    'PhysHlth',\n",
        "    'DiffWalk',\n",
        "    'Sex',\n",
        "    'Age',\n",
        "    'Education',\n",
        "    'Income'\n",
        "\n",
        "\n",
        "]\n",
        "\n",
        "target = 'Diabetes_binary'\n"
      ]
    },
    {
      "cell_type": "markdown",
      "metadata": {
        "id": "KUIa-Q80q21F"
      },
      "source": [
        "# Preprocessing"
      ]
    },
    {
      "cell_type": "markdown",
      "metadata": {
        "id": "E477MzrDrJ0f"
      },
      "source": [
        "## Missing Value"
      ]
    },
    {
      "cell_type": "markdown",
      "metadata": {
        "id": "eZ1aU_h53_TQ"
      },
      "source": [
        "Cek missing value"
      ]
    },
    {
      "cell_type": "code",
      "execution_count": null,
      "metadata": {
        "colab": {
          "base_uri": "https://localhost:8080/"
        },
        "id": "jzZtAxBE4CK3",
        "outputId": "0532151d-4065-4031-fb0f-4ad4d3c6b00a"
      },
      "outputs": [
        {
          "output_type": "stream",
          "name": "stdout",
          "text": [
            "Jumlah missing value per kolom:\n",
            "HighBP                  0\n",
            "HighChol                0\n",
            "CholCheck               0\n",
            "BMI                     0\n",
            "Smoker                  0\n",
            "Stroke                  0\n",
            "HeartDiseaseorAttack    0\n",
            "PhysActivity            0\n",
            "Fruits                  0\n",
            "Veggies                 0\n",
            "HvyAlcoholConsump       0\n",
            "AnyHealthcare           0\n",
            "NoDocbcCost             0\n",
            "GenHlth                 0\n",
            "MentHlth                0\n",
            "PhysHlth                0\n",
            "DiffWalk                0\n",
            "Sex                     0\n",
            "Age                     0\n",
            "Education               0\n",
            "Income                  0\n",
            "Diabetes_binary         0\n",
            "dtype: int64\n"
          ]
        }
      ],
      "source": [
        "print(\"Jumlah missing value per kolom:\")\n",
        "print(df[selected_features + [target]].isnull().sum())\n"
      ]
    },
    {
      "cell_type": "markdown",
      "metadata": {
        "id": "koQ3KzQY4K0o"
      },
      "source": [
        "Data tidak memiliki missing value"
      ]
    },
    {
      "cell_type": "markdown",
      "metadata": {
        "id": "Skmu0L6r4T8n"
      },
      "source": [
        "## Outlier"
      ]
    },
    {
      "cell_type": "markdown",
      "metadata": {
        "id": "aMSnL_VJ4aWb"
      },
      "source": [
        "Penanganan Outlier pakai IQR"
      ]
    },
    {
      "cell_type": "code",
      "execution_count": null,
      "metadata": {
        "id": "Fbzvst3E4WtG"
      },
      "outputs": [],
      "source": [
        "def handle_outliers_iqr(df, column):\n",
        "    Q1 = df[column].quantile(0.25)\n",
        "    Q3 = df[column].quantile(0.75)\n",
        "    IQR = Q3 - Q1\n",
        "    lower = Q1 - 1.5 * IQR\n",
        "    upper = Q3 + 1.5 * IQR\n",
        "    df_cleaned = df[(df[column] >= lower) & (df[column] <= upper)]\n",
        "    return df_cleaned"
      ]
    },
    {
      "cell_type": "markdown",
      "metadata": {
        "id": "y-FejLar4ik_"
      },
      "source": [
        "Menerapkan IQR ke Feature Numerik"
      ]
    },
    {
      "cell_type": "code",
      "execution_count": null,
      "metadata": {
        "colab": {
          "base_uri": "https://localhost:8080/"
        },
        "id": "OOnG0ayh4Y1i",
        "outputId": "a343d13b-a2fd-4941-d088-10cc691fe1f2"
      },
      "outputs": [
        {
          "output_type": "stream",
          "name": "stdout",
          "text": [
            "Outliers removed from Age: 0 data\n",
            "count    70692.000000\n",
            "mean         8.584055\n",
            "std          2.852153\n",
            "min          1.000000\n",
            "25%          7.000000\n",
            "50%          9.000000\n",
            "75%         11.000000\n",
            "max         13.000000\n",
            "Name: Age, dtype: float64\n",
            "Outliers removed from BMI: 2181 data\n",
            "count    68511.000000\n",
            "mean        29.129673\n",
            "std          5.695466\n",
            "min         13.000000\n",
            "25%         25.000000\n",
            "50%         28.000000\n",
            "75%         33.000000\n",
            "max         45.000000\n",
            "Name: BMI, dtype: float64\n",
            "Outliers removed from HighBP: 0 data\n",
            "count    68511.000000\n",
            "mean         0.556626\n",
            "std          0.496787\n",
            "min          0.000000\n",
            "25%          0.000000\n",
            "50%          1.000000\n",
            "75%          1.000000\n",
            "max          1.000000\n",
            "Name: HighBP, dtype: float64\n",
            "Outliers removed from PhysHlth: 12462 data\n",
            "count    56049.000000\n",
            "mean         1.242092\n",
            "std          2.487107\n",
            "min          0.000000\n",
            "25%          0.000000\n",
            "50%          0.000000\n",
            "75%          2.000000\n",
            "max         12.000000\n",
            "Name: PhysHlth, dtype: float64\n",
            "Outliers removed from GenHlth: 1009 data\n",
            "count    55040.000000\n",
            "mean         2.505687\n",
            "std          0.906544\n",
            "min          1.000000\n",
            "25%          2.000000\n",
            "50%          3.000000\n",
            "75%          3.000000\n",
            "max          4.000000\n",
            "Name: GenHlth, dtype: float64\n",
            "Outliers removed from Education: 0 data\n",
            "count    55040.000000\n",
            "mean         5.016751\n",
            "std          0.992464\n",
            "min          1.000000\n",
            "25%          4.000000\n",
            "50%          5.000000\n",
            "75%          6.000000\n",
            "max          6.000000\n",
            "Name: Education, dtype: float64\n",
            "Outliers removed from Income: 0 data\n",
            "count    55040.000000\n",
            "mean         6.026871\n",
            "std          2.033903\n",
            "min          1.000000\n",
            "25%          5.000000\n",
            "50%          7.000000\n",
            "75%          8.000000\n",
            "max          8.000000\n",
            "Name: Income, dtype: float64\n"
          ]
        }
      ],
      "source": [
        "numerical_cols = [\"Age\", \"BMI\", \"HighBP\", \"PhysHlth\", \"GenHlth\", \"Education\", \"Income\"]\n",
        "\n",
        "for col in numerical_cols:\n",
        "    before = len(df)\n",
        "    df = handle_outliers_iqr(df, col)\n",
        "    after = len(df)\n",
        "    removed = before - after\n",
        "\n",
        "    print(f\"Outliers removed from {col}: {removed} data\")\n",
        "    print(df[col].describe())"
      ]
    },
    {
      "cell_type": "markdown",
      "metadata": {
        "id": "JOuIazBFSrdL"
      },
      "source": [
        "Encodung"
      ]
    },
    {
      "cell_type": "code",
      "execution_count": null,
      "metadata": {
        "id": "0UYU79igbusR"
      },
      "outputs": [],
      "source": [
        "df_encoded = pd.get_dummies(df, columns=['Sex', 'Smoker'], drop_first=True)"
      ]
    },
    {
      "cell_type": "markdown",
      "metadata": {
        "id": "bdNULc09AYl5"
      },
      "source": [
        "Feature Importance"
      ]
    },
    {
      "cell_type": "code",
      "execution_count": null,
      "metadata": {
        "colab": {
          "base_uri": "https://localhost:8080/"
        },
        "id": "ncFQEuvGAYGk",
        "outputId": "b9b59272-bc69-45f7-c0c4-dd32a6c5a9c4"
      },
      "outputs": [
        {
          "output_type": "stream",
          "name": "stdout",
          "text": [
            "Top 7 fitur terpenting: ['BMI', 'Age', 'GenHlth', 'Income', 'HighBP', 'PhysHlth', 'Education']\n"
          ]
        }
      ],
      "source": [
        "from sklearn.ensemble import RandomForestClassifier\n",
        "\n",
        "X_all = df_encoded.drop(columns=['Diabetes_binary'])\n",
        "y_all = df_encoded['Diabetes_binary']\n",
        "\n",
        "rf = RandomForestClassifier(random_state=42)\n",
        "rf.fit(X_all, y_all)\n",
        "\n",
        "# Ambil 7 fitur terpenting\n",
        "importances = rf.feature_importances_\n",
        "feat_importance = pd.Series(importances, index=X_all.columns)\n",
        "top7_features = feat_importance.sort_values(ascending=False).head(7).index.tolist()\n",
        "\n",
        "print(\"Top 7 fitur terpenting:\", top7_features)"
      ]
    },
    {
      "cell_type": "markdown",
      "metadata": {
        "id": "tO0fN9fA4osE"
      },
      "source": [
        "## Memisahkan Feature & Target"
      ]
    },
    {
      "cell_type": "code",
      "execution_count": null,
      "metadata": {
        "id": "zb07xCKY4hXO"
      },
      "outputs": [],
      "source": [
        "X =  df[top7_features]\n",
        "y = df[target]"
      ]
    },
    {
      "cell_type": "markdown",
      "metadata": {
        "id": "vFqGNBh54xXC"
      },
      "source": [
        "## Split Data"
      ]
    },
    {
      "cell_type": "markdown",
      "metadata": {
        "id": "7xd1nzKx4RH0"
      },
      "source": [
        "parameter dari train_test_split --> stratify"
      ]
    },
    {
      "cell_type": "code",
      "execution_count": null,
      "metadata": {
        "id": "2UC5-yto4z5_"
      },
      "outputs": [],
      "source": [
        "X_train_full, X_test, y_train_full, y_test = train_test_split(X, y, test_size=0.2, random_state=42)"
      ]
    },
    {
      "cell_type": "markdown",
      "metadata": {
        "id": "pKWgBCmb9maP"
      },
      "source": [
        "untuk val"
      ]
    },
    {
      "cell_type": "code",
      "execution_count": null,
      "metadata": {
        "id": "_7EtwMtR9oLx"
      },
      "outputs": [],
      "source": [
        "X_train, X_val, y_train, y_val = train_test_split(X_train_full, y_train_full, test_size=0.2, random_state=42)"
      ]
    },
    {
      "cell_type": "markdown",
      "metadata": {
        "id": "AZC67YcL45XI"
      },
      "source": [
        "## Scaling Fitur"
      ]
    },
    {
      "cell_type": "code",
      "source": [
        "from sklearn.preprocessing import StandardScaler\n",
        "import joblib\n",
        "\n",
        "scaler = StandardScaler()\n",
        "X_train_scaled = scaler.fit_transform(X_train)\n",
        "X_val_scaled = scaler.transform(X_val)\n",
        "X_test_scaled = scaler.transform(X_test)\n",
        "\n",
        "joblib.dump(scaler, 'scaler_diabetes.joblib')\n"
      ],
      "metadata": {
        "colab": {
          "base_uri": "https://localhost:8080/"
        },
        "id": "sah_nSpOrvDu",
        "outputId": "2e39e433-cae6-460d-e59e-0284a49c0b46"
      },
      "execution_count": null,
      "outputs": [
        {
          "output_type": "execute_result",
          "data": {
            "text/plain": [
              "['scaler_diabetes.joblib']"
            ]
          },
          "metadata": {},
          "execution_count": 13
        }
      ]
    },
    {
      "cell_type": "markdown",
      "metadata": {
        "id": "60JpT0GX5FQH"
      },
      "source": [
        "# Modeling"
      ]
    },
    {
      "cell_type": "markdown",
      "metadata": {
        "id": "U1XI2H9D8WTz"
      },
      "source": [
        "model"
      ]
    },
    {
      "cell_type": "code",
      "execution_count": null,
      "metadata": {
        "id": "ilTZ0GFW5O57"
      },
      "outputs": [],
      "source": [
        "from tensorflow.keras import regularizers\n",
        "from tensorflow.keras import regularizers\n",
        "from tensorflow.keras.optimizers import Adam\n",
        "\n",
        "# activation function: relu, sigmoid, tanh, linear,\n",
        "\n",
        "# Model\n",
        "model = tf.keras.Sequential([\n",
        "    tf.keras.layers.Input(shape=(7,)),\n",
        "    tf.keras.layers.Dense(32, activation='relu'),\n",
        "    tf.keras.layers.Dense(16, activation='relu'),\n",
        "    tf.keras.layers.Dropout(0.3),\n",
        "    tf.keras.layers.Dense(1, activation='sigmoid')\n",
        "])\n",
        "\n",
        "\n",
        "optimizer = Adam(learning_rate=0.0001, beta_1=0.9, beta_2=0.999)\n",
        "\n",
        "model.compile(\n",
        "    optimizer=optimizer,\n",
        "    loss='binary_crossentropy',\n",
        "    metrics=['accuracy']\n",
        ")\n",
        "\n",
        "\n"
      ]
    },
    {
      "cell_type": "markdown",
      "metadata": {
        "id": "hB5Sd1sA8X9k"
      },
      "source": [
        "Train"
      ]
    },
    {
      "cell_type": "markdown",
      "metadata": {
        "id": "NilWVaRj5RWP"
      },
      "source": [
        "dicoba epochs yang sedikit, misal mulai dari 5."
      ]
    },
    {
      "cell_type": "code",
      "execution_count": null,
      "metadata": {
        "colab": {
          "base_uri": "https://localhost:8080/"
        },
        "id": "qXhZmUj5X1iZ",
        "outputId": "30c47c10-e167-43f8-cad4-692b2e44ad91"
      },
      "outputs": [
        {
          "output_type": "stream",
          "name": "stdout",
          "text": [
            "Epoch 1/30\n",
            "\u001b[1m1101/1101\u001b[0m \u001b[32m━━━━━━━━━━━━━━━━━━━━\u001b[0m\u001b[37m\u001b[0m \u001b[1m15s\u001b[0m 10ms/step - accuracy: 0.6352 - loss: 0.6432 - val_accuracy: 0.7262 - val_loss: 0.5487\n",
            "Epoch 2/30\n",
            "\u001b[1m1101/1101\u001b[0m \u001b[32m━━━━━━━━━━━━━━━━━━━━\u001b[0m\u001b[37m\u001b[0m \u001b[1m9s\u001b[0m 8ms/step - accuracy: 0.7237 - loss: 0.5559 - val_accuracy: 0.7304 - val_loss: 0.5279\n",
            "Epoch 3/30\n",
            "\u001b[1m1101/1101\u001b[0m \u001b[32m━━━━━━━━━━━━━━━━━━━━\u001b[0m\u001b[37m\u001b[0m \u001b[1m6s\u001b[0m 5ms/step - accuracy: 0.7350 - loss: 0.5369 - val_accuracy: 0.7304 - val_loss: 0.5248\n",
            "Epoch 4/30\n",
            "\u001b[1m1101/1101\u001b[0m \u001b[32m━━━━━━━━━━━━━━━━━━━━\u001b[0m\u001b[37m\u001b[0m \u001b[1m4s\u001b[0m 3ms/step - accuracy: 0.7337 - loss: 0.5336 - val_accuracy: 0.7304 - val_loss: 0.5220\n",
            "Epoch 5/30\n",
            "\u001b[1m1101/1101\u001b[0m \u001b[32m━━━━━━━━━━━━━━━━━━━━\u001b[0m\u001b[37m\u001b[0m \u001b[1m5s\u001b[0m 3ms/step - accuracy: 0.7348 - loss: 0.5324 - val_accuracy: 0.7300 - val_loss: 0.5220\n",
            "Epoch 6/30\n",
            "\u001b[1m1101/1101\u001b[0m \u001b[32m━━━━━━━━━━━━━━━━━━━━\u001b[0m\u001b[37m\u001b[0m \u001b[1m4s\u001b[0m 4ms/step - accuracy: 0.7320 - loss: 0.5356 - val_accuracy: 0.7318 - val_loss: 0.5198\n",
            "Epoch 7/30\n",
            "\u001b[1m1101/1101\u001b[0m \u001b[32m━━━━━━━━━━━━━━━━━━━━\u001b[0m\u001b[37m\u001b[0m \u001b[1m4s\u001b[0m 3ms/step - accuracy: 0.7301 - loss: 0.5331 - val_accuracy: 0.7292 - val_loss: 0.5203\n",
            "Epoch 8/30\n",
            "\u001b[1m1101/1101\u001b[0m \u001b[32m━━━━━━━━━━━━━━━━━━━━\u001b[0m\u001b[37m\u001b[0m \u001b[1m5s\u001b[0m 3ms/step - accuracy: 0.7340 - loss: 0.5311 - val_accuracy: 0.7299 - val_loss: 0.5204\n",
            "Epoch 9/30\n",
            "\u001b[1m1101/1101\u001b[0m \u001b[32m━━━━━━━━━━━━━━━━━━━━\u001b[0m\u001b[37m\u001b[0m \u001b[1m4s\u001b[0m 4ms/step - accuracy: 0.7337 - loss: 0.5308 - val_accuracy: 0.7307 - val_loss: 0.5199\n",
            "Epoch 10/30\n",
            "\u001b[1m1101/1101\u001b[0m \u001b[32m━━━━━━━━━━━━━━━━━━━━\u001b[0m\u001b[37m\u001b[0m \u001b[1m5s\u001b[0m 4ms/step - accuracy: 0.7323 - loss: 0.5315 - val_accuracy: 0.7304 - val_loss: 0.5202\n",
            "Epoch 11/30\n",
            "\u001b[1m1101/1101\u001b[0m \u001b[32m━━━━━━━━━━━━━━━━━━━━\u001b[0m\u001b[37m\u001b[0m \u001b[1m5s\u001b[0m 3ms/step - accuracy: 0.7339 - loss: 0.5286 - val_accuracy: 0.7316 - val_loss: 0.5200\n",
            "Epoch 12/30\n",
            "\u001b[1m1101/1101\u001b[0m \u001b[32m━━━━━━━━━━━━━━━━━━━━\u001b[0m\u001b[37m\u001b[0m \u001b[1m5s\u001b[0m 5ms/step - accuracy: 0.7393 - loss: 0.5224 - val_accuracy: 0.7320 - val_loss: 0.5196\n",
            "Epoch 13/30\n",
            "\u001b[1m1101/1101\u001b[0m \u001b[32m━━━━━━━━━━━━━━━━━━━━\u001b[0m\u001b[37m\u001b[0m \u001b[1m4s\u001b[0m 3ms/step - accuracy: 0.7361 - loss: 0.5227 - val_accuracy: 0.7319 - val_loss: 0.5196\n",
            "Epoch 14/30\n",
            "\u001b[1m1101/1101\u001b[0m \u001b[32m━━━━━━━━━━━━━━━━━━━━\u001b[0m\u001b[37m\u001b[0m \u001b[1m5s\u001b[0m 3ms/step - accuracy: 0.7357 - loss: 0.5252 - val_accuracy: 0.7325 - val_loss: 0.5196\n",
            "Epoch 15/30\n",
            "\u001b[1m1101/1101\u001b[0m \u001b[32m━━━━━━━━━━━━━━━━━━━━\u001b[0m\u001b[37m\u001b[0m \u001b[1m8s\u001b[0m 5ms/step - accuracy: 0.7363 - loss: 0.5243 - val_accuracy: 0.7325 - val_loss: 0.5196\n",
            "Epoch 16/30\n",
            "\u001b[1m1101/1101\u001b[0m \u001b[32m━━━━━━━━━━━━━━━━━━━━\u001b[0m\u001b[37m\u001b[0m \u001b[1m4s\u001b[0m 3ms/step - accuracy: 0.7384 - loss: 0.5237 - val_accuracy: 0.7326 - val_loss: 0.5187\n",
            "Epoch 17/30\n",
            "\u001b[1m1101/1101\u001b[0m \u001b[32m━━━━━━━━━━━━━━━━━━━━\u001b[0m\u001b[37m\u001b[0m \u001b[1m5s\u001b[0m 3ms/step - accuracy: 0.7340 - loss: 0.5260 - val_accuracy: 0.7327 - val_loss: 0.5197\n",
            "Epoch 18/30\n",
            "\u001b[1m1101/1101\u001b[0m \u001b[32m━━━━━━━━━━━━━━━━━━━━\u001b[0m\u001b[37m\u001b[0m \u001b[1m6s\u001b[0m 4ms/step - accuracy: 0.7353 - loss: 0.5237 - val_accuracy: 0.7325 - val_loss: 0.5195\n",
            "Epoch 19/30\n",
            "\u001b[1m1101/1101\u001b[0m \u001b[32m━━━━━━━━━━━━━━━━━━━━\u001b[0m\u001b[37m\u001b[0m \u001b[1m4s\u001b[0m 3ms/step - accuracy: 0.7356 - loss: 0.5286 - val_accuracy: 0.7331 - val_loss: 0.5185\n",
            "Epoch 20/30\n",
            "\u001b[1m1101/1101\u001b[0m \u001b[32m━━━━━━━━━━━━━━━━━━━━\u001b[0m\u001b[37m\u001b[0m \u001b[1m6s\u001b[0m 4ms/step - accuracy: 0.7379 - loss: 0.5253 - val_accuracy: 0.7323 - val_loss: 0.5201\n",
            "Epoch 21/30\n",
            "\u001b[1m1101/1101\u001b[0m \u001b[32m━━━━━━━━━━━━━━━━━━━━\u001b[0m\u001b[37m\u001b[0m \u001b[1m5s\u001b[0m 4ms/step - accuracy: 0.7303 - loss: 0.5325 - val_accuracy: 0.7327 - val_loss: 0.5195\n",
            "Epoch 22/30\n",
            "\u001b[1m1101/1101\u001b[0m \u001b[32m━━━━━━━━━━━━━━━━━━━━\u001b[0m\u001b[37m\u001b[0m \u001b[1m3s\u001b[0m 3ms/step - accuracy: 0.7365 - loss: 0.5281 - val_accuracy: 0.7345 - val_loss: 0.5183\n",
            "Epoch 23/30\n",
            "\u001b[1m1101/1101\u001b[0m \u001b[32m━━━━━━━━━━━━━━━━━━━━\u001b[0m\u001b[37m\u001b[0m \u001b[1m6s\u001b[0m 4ms/step - accuracy: 0.7314 - loss: 0.5284 - val_accuracy: 0.7346 - val_loss: 0.5184\n",
            "Epoch 24/30\n",
            "\u001b[1m1101/1101\u001b[0m \u001b[32m━━━━━━━━━━━━━━━━━━━━\u001b[0m\u001b[37m\u001b[0m \u001b[1m4s\u001b[0m 3ms/step - accuracy: 0.7375 - loss: 0.5250 - val_accuracy: 0.7341 - val_loss: 0.5190\n",
            "Epoch 25/30\n",
            "\u001b[1m1101/1101\u001b[0m \u001b[32m━━━━━━━━━━━━━━━━━━━━\u001b[0m\u001b[37m\u001b[0m \u001b[1m5s\u001b[0m 3ms/step - accuracy: 0.7353 - loss: 0.5306 - val_accuracy: 0.7336 - val_loss: 0.5186\n",
            "Epoch 26/30\n",
            "\u001b[1m1101/1101\u001b[0m \u001b[32m━━━━━━━━━━━━━━━━━━━━\u001b[0m\u001b[37m\u001b[0m \u001b[1m4s\u001b[0m 4ms/step - accuracy: 0.7384 - loss: 0.5261 - val_accuracy: 0.7331 - val_loss: 0.5194\n",
            "Epoch 27/30\n",
            "\u001b[1m1101/1101\u001b[0m \u001b[32m━━━━━━━━━━━━━━━━━━━━\u001b[0m\u001b[37m\u001b[0m \u001b[1m4s\u001b[0m 4ms/step - accuracy: 0.7362 - loss: 0.5245 - val_accuracy: 0.7327 - val_loss: 0.5194\n",
            "Epoch 28/30\n",
            "\u001b[1m1101/1101\u001b[0m \u001b[32m━━━━━━━━━━━━━━━━━━━━\u001b[0m\u001b[37m\u001b[0m \u001b[1m4s\u001b[0m 3ms/step - accuracy: 0.7380 - loss: 0.5239 - val_accuracy: 0.7327 - val_loss: 0.5200\n",
            "Epoch 29/30\n",
            "\u001b[1m1101/1101\u001b[0m \u001b[32m━━━━━━━━━━━━━━━━━━━━\u001b[0m\u001b[37m\u001b[0m \u001b[1m4s\u001b[0m 4ms/step - accuracy: 0.7350 - loss: 0.5269 - val_accuracy: 0.7324 - val_loss: 0.5197\n",
            "Epoch 30/30\n",
            "\u001b[1m1101/1101\u001b[0m \u001b[32m━━━━━━━━━━━━━━━━━━━━\u001b[0m\u001b[37m\u001b[0m \u001b[1m5s\u001b[0m 4ms/step - accuracy: 0.7373 - loss: 0.5257 - val_accuracy: 0.7327 - val_loss: 0.5189\n"
          ]
        }
      ],
      "source": [
        "from sklearn.utils import class_weight\n",
        "import numpy as np\n",
        "\n",
        "class_weights = class_weight.compute_class_weight(\n",
        "    class_weight='balanced',\n",
        "    classes=np.unique(y_train),\n",
        "    y=y_train\n",
        ")\n",
        "class_weights = dict(enumerate(class_weights))\n",
        "\n",
        "history = model.fit(\n",
        "    X_train_scaled, y_train,\n",
        "    validation_data=(X_val_scaled, y_val),\n",
        "    epochs=30,\n",
        "    batch_size=32,\n",
        "    class_weight=class_weights\n",
        ")\n"
      ]
    },
    {
      "cell_type": "markdown",
      "metadata": {
        "id": "4mhtFlF45Udf"
      },
      "source": [
        "# Evaluasi Model ASLIII\n"
      ]
    },
    {
      "cell_type": "code",
      "execution_count": null,
      "metadata": {
        "colab": {
          "base_uri": "https://localhost:8080/"
        },
        "id": "1R5_373p5cZE",
        "outputId": "53c32cee-df74-43b1-91bb-d653ea9cf938"
      },
      "outputs": [
        {
          "output_type": "stream",
          "name": "stdout",
          "text": [
            "\u001b[1m344/344\u001b[0m \u001b[32m━━━━━━━━━━━━━━━━━━━━\u001b[0m\u001b[37m\u001b[0m \u001b[1m3s\u001b[0m 10ms/step - accuracy: 0.7280 - loss: 0.5266\n",
            "\n",
            "Akurasi pada data test: 0.73\n",
            "\u001b[1m344/344\u001b[0m \u001b[32m━━━━━━━━━━━━━━━━━━━━\u001b[0m\u001b[37m\u001b[0m \u001b[1m1s\u001b[0m 2ms/step\n",
            "\n",
            "Classification Report:\n",
            "              precision    recall  f1-score   support\n",
            "\n",
            "         0.0       0.80      0.68      0.74      6135\n",
            "         1.0       0.66      0.79      0.72      4873\n",
            "\n",
            "    accuracy                           0.73     11008\n",
            "   macro avg       0.73      0.74      0.73     11008\n",
            "weighted avg       0.74      0.73      0.73     11008\n",
            "\n"
          ]
        }
      ],
      "source": [
        "test_loss, test_acc = model.evaluate(X_test_scaled, y_test)\n",
        "print(f\"\\nAkurasi pada data test: {test_acc:.2f}\")\n",
        "\n",
        "# Predict n laporan klasifikasi\n",
        "y_pred_prob = model.predict(X_test_scaled)\n",
        "y_pred = (y_pred_prob > 0.5).astype(int)\n",
        "\n",
        "print(\"\\nClassification Report:\")\n",
        "print(classification_report(y_test, y_pred))\n",
        "\n",
        "# Confusion Matrix\n",
        "cm = confusion_matrix(y_test, y_pred)\n"
      ]
    },
    {
      "cell_type": "markdown",
      "metadata": {
        "id": "TTBpKmU15nme"
      },
      "source": [
        "# Visualisasi n Evaluasi"
      ]
    },
    {
      "cell_type": "code",
      "execution_count": null,
      "metadata": {
        "colab": {
          "base_uri": "https://localhost:8080/",
          "height": 800
        },
        "id": "l43U0KVm5r9d",
        "outputId": "7c89a237-b4dc-4f4d-8505-e4498e7d0476"
      },
      "outputs": [
        {
          "output_type": "display_data",
          "data": {
            "text/plain": [
              "<Figure size 600x400 with 2 Axes>"
            ],
            "image/png": "[encoded data removed]"
          },
          "metadata": {}
        },
        {
          "output_type": "display_data",
          "data": {
            "text/plain": [
              "<Figure size 1200x400 with 2 Axes>"
            ],
            "image/png": "[encoded data removed]"
          },
          "metadata": {}
        }
      ],
      "source": [
        "plt.figure(figsize=(6, 4))\n",
        "sns.heatmap(cm, annot=True, fmt='d', cmap='Blues')\n",
        "plt.xlabel(\"Predicted\")\n",
        "plt.ylabel(\"Actual\")\n",
        "plt.title(\"Confusion Matrix\")\n",
        "plt.show()\n",
        "\n",
        "plt.figure(figsize=(12, 4))\n",
        "plt.subplot(1, 2, 1)\n",
        "plt.plot(history.history['accuracy'], label='Train')\n",
        "plt.plot(history.history['val_accuracy'], label='Validation')\n",
        "plt.title(\"Akurasi Model\")\n",
        "plt.xlabel(\"Epoch\")\n",
        "plt.ylabel(\"Accuracy\")\n",
        "plt.legend()\n",
        "\n",
        "plt.subplot(1, 2, 2)\n",
        "plt.plot(history.history['loss'], label='Train')\n",
        "plt.plot(history.history['val_loss'], label='Validation')\n",
        "plt.title(\"Loss Model\")\n",
        "plt.xlabel(\"Epoch\")\n",
        "plt.ylabel(\"Loss\")\n",
        "plt.legend()\n",
        "\n",
        "plt.tight_layout()\n",
        "plt.show()\n"
      ]
    },
    {
      "cell_type": "code",
      "source": [
        "model.save(\"model_diabetes.h5\")\n",
        "print(\"Model berhasil disimpan ke model_diabetes.h5\")\n"
      ],
      "metadata": {
        "colab": {
          "base_uri": "https://localhost:8080/"
        },
        "id": "UQPpGq3aKycX",
        "outputId": "73254150-9259-4707-c0de-24a2c7c06ff0"
      },
      "execution_count": null,
      "outputs": [
        {
          "output_type": "stream",
          "name": "stderr",
          "text": [
            "WARNING:absl:You are saving your model as an HDF5 file via `model.save()` or `keras.saving.save_model(model)`. This file format is considered legacy. We recommend using instead the native Keras format, e.g. `model.save('my_model.keras')` or `keras.saving.save_model(model, 'my_model.keras')`. \n"
          ]
        },
        {
          "output_type": "stream",
          "name": "stdout",
          "text": [
            "Model berhasil disimpan ke model_diabetes.h5\n"
          ]
        }
      ]
    },
    {
      "cell_type": "code",
      "source": [
        "from tensorflow.keras.models import load_model\n",
        "import numpy as np\n",
        "\n",
        "model = load_model(\"model_diabetes.h5\")\n",
        "\n",
        "# Format: [BMI, Age, GenHlth, Income, HighBP, Education, PhysHlth]\n",
        "data_baru = np.array([[20, 20, 2, 4, 0, 3, 1]])"
      ],
      "metadata": {
        "colab": {
          "base_uri": "https://localhost:8080/"
        },
        "id": "SBv6Lh5DMdZl",
        "outputId": "1ad6f257-fff5-4f1f-ebca-960c92404afd"
      },
      "execution_count": null,
      "outputs": [
        {
          "output_type": "stream",
          "name": "stderr",
          "text": [
            "WARNING:absl:Compiled the loaded model, but the compiled metrics have yet to be built. `model.compile_metrics` will be empty until you train or evaluate the model.\n"
          ]
        }
      ]
    },
    {
      "cell_type": "code",
      "source": [
        "from sklearn.preprocessing import StandardScaler\n",
        "\n",
        "scaler = StandardScaler()\n",
        "scaler.fit(X_train)\n",
        "\n",
        "data_baru_scaled = scaler.transform(data_baru)\n"
      ],
      "metadata": {
        "colab": {
          "base_uri": "https://localhost:8080/"
        },
        "id": "_zjsvlA5Medx",
        "outputId": "b6288c70-6a20-43fd-ed77-5b38f3dbd164"
      },
      "execution_count": null,
      "outputs": [
        {
          "output_type": "stream",
          "name": "stderr",
          "text": [
            "/usr/local/lib/python3.11/dist-packages/sklearn/utils/validation.py:2739: UserWarning: X does not have valid feature names, but StandardScaler was fitted with feature names\n",
            "  warnings.warn(\n"
          ]
        }
      ]
    },
    {
      "cell_type": "code",
      "source": [
        "\n",
        "prob = model.predict(data_baru_scaled)[0][0]\n",
        "prediksi = int(prob > 0.5)\n",
        "\n",
        "print(f\"Probabilitas diabetes: {prob:.2f}\")\n",
        "if prediksi == 1:\n",
        "    print(\"Prediksi: Pasien berisiko diabetes\")\n",
        "else:\n",
        "    print(\"Prediksi: Pasien tidak berisiko diabetes\")\n"
      ],
      "metadata": {
        "colab": {
          "base_uri": "https://localhost:8080/"
        },
        "id": "ZJI8jNieMiMk",
        "outputId": "d80e992a-a1b0-40a8-8c38-a7fb5391014e"
      },
      "execution_count": null,
      "outputs": [
        {
          "output_type": "stream",
          "name": "stdout",
          "text": [
            "\u001b[1m1/1\u001b[0m \u001b[32m━━━━━━━━━━━━━━━━━━━━\u001b[0m\u001b[37m\u001b[0m \u001b[1m0s\u001b[0m 104ms/step\n",
            "Probabilitas diabetes: 0.48\n",
            "Prediksi: Pasien tidak berisiko diabetes\n"
          ]
        }
      ]
    }
  ],
  "metadata": {
    "colab": {
      "provenance": []
    },
    "kernelspec": {
      "display_name": "Python 3",
      "name": "python3"
    },
    "language_info": {
      "name": "python"
    }
  },
  "nbformat": 4,
  "nbformat_minor": 0
}